{
 "cells": [
  {
   "cell_type": "markdown",
   "id": "a068c560-95c4-4b73-a1be-7e7334ac6fb0",
   "metadata": {
    "tags": []
   },
   "source": [
    "# Data Science Tools and Ecosystem"
   ]
  },
  {
   "cell_type": "markdown",
   "id": "93b24a8b-13ba-4ba6-9e64-3f85bd77a1dc",
   "metadata": {},
   "source": [
    "## In this notebook, Data Scinece Tools and Ecosystem are summarized"
   ]
  },
  {
   "cell_type": "markdown",
   "id": "aab0eb77-ac4f-4bae-a442-73ddbc0fc567",
   "metadata": {
    "tags": []
   },
   "source": [
    "## **Objectives:**\n",
    "- List popular languages for data Science\n",
    "- List commonly used libraries for data Science\n",
    "- List open source Tools used for data Science\n"
   ]
  },
  {
   "cell_type": "markdown",
   "id": "e9528f6f-066a-492e-9e0a-40216143fa6c",
   "metadata": {},
   "source": [
    "### Some of the popular languages that Data Scientists use are:"
   ]
  },
  {
   "cell_type": "markdown",
   "id": "0d51fd34-914e-4d66-8155-80701c082cf8",
   "metadata": {},
   "source": [
    "1. Python\n",
    "2. R\n",
    "3. SQL"
   ]
  },
  {
   "cell_type": "markdown",
   "id": "b0f7c2fc-c51a-44b3-8dd2-046269da0263",
   "metadata": {},
   "source": [
    "### Some of the commonly used libraries used by Data Scientists include:"
   ]
  },
  {
   "cell_type": "markdown",
   "id": "585085b5-cbdb-4746-a96c-94c26795ef77",
   "metadata": {},
   "source": [
    "1. NumPy\n",
    "2. Pandas\n",
    "3. Keras"
   ]
  },
  {
   "cell_type": "markdown",
   "id": "1334df14-1ceb-40d9-87fc-9544bbd93e87",
   "metadata": {},
   "source": [
    "| Data Science Tools |\n",
    "| ------------------ |\n",
    "| Rstudio |\n",
    "| Apache Spark |\n",
    "| TensorFlow | "
   ]
  },
  {
   "cell_type": "markdown",
   "id": "ce77d9a3-6e93-4ab7-b9e9-cd94b4723631",
   "metadata": {
    "tags": []
   },
   "source": [
    "### Below are a few examples of evaluating arithmetic expressions in Python "
   ]
  },
  {
   "cell_type": "code",
   "execution_count": 1,
   "id": "e0f8e8b0-ec8b-4771-9b8e-4a33c363c7cb",
   "metadata": {
    "tags": []
   },
   "outputs": [
    {
     "data": {
      "text/plain": [
       "17"
      ]
     },
     "execution_count": 1,
     "metadata": {},
     "output_type": "execute_result"
    }
   ],
   "source": [
    "#This a simple arithmetic expression to mutiply then add integers\n",
    "(3*4)+5\n"
   ]
  },
  {
   "cell_type": "code",
   "execution_count": 2,
   "id": "a77c0bb2-d6ab-4738-8dd7-cd9149ad0447",
   "metadata": {
    "tags": []
   },
   "outputs": [
    {
     "data": {
      "text/plain": [
       "3.3333333333333335"
      ]
     },
     "execution_count": 2,
     "metadata": {},
     "output_type": "execute_result"
    }
   ],
   "source": [
    "#This will convert 200 minutes to hours by diving by 60\n",
    "(200/60)"
   ]
  },
  {
   "cell_type": "markdown",
   "id": "d4c4286b-51b8-461f-b22b-6bf3b4c155f3",
   "metadata": {
    "tags": []
   },
   "source": [
    "## MANISHA"
   ]
  },
  {
   "cell_type": "code",
   "execution_count": null,
   "id": "5e233689-5e76-4cda-86dc-ab756e366310",
   "metadata": {},
   "outputs": [],
   "source": []
  }
 ],
 "metadata": {
  "kernelspec": {
   "display_name": "Python 3 (ipykernel)",
   "language": "python",
   "name": "python3"
  },
  "language_info": {
   "codemirror_mode": {
    "name": "ipython",
    "version": 3
   },
   "file_extension": ".py",
   "mimetype": "text/x-python",
   "name": "python",
   "nbconvert_exporter": "python",
   "pygments_lexer": "ipython3",
   "version": "3.11.3"
  }
 },
 "nbformat": 4,
 "nbformat_minor": 5
}
